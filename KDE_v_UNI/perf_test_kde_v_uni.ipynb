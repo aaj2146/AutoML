{
 "cells": [
  {
   "cell_type": "code",
   "execution_count": 17,
   "metadata": {
    "collapsed": true
   },
   "outputs": [],
   "source": [
    "import pandas as pd\n",
    "from arff2pandas import  a2p\n",
    "import pickle\n",
    "import numpy as np"
   ]
  },
  {
   "cell_type": "code",
   "execution_count": 16,
   "metadata": {
    "collapsed": true
   },
   "outputs": [],
   "source": [
    "class loguni():\n",
    "    def __init__(self, low, high, base = 10):\n",
    "        self.low = low\n",
    "        self.high = high\n",
    "        self.base = base\n",
    "        \n",
    "    def rvs(self, size = 1, random_state = None):\n",
    "        #def rvs(self, num = 1, random_state = None):\n",
    "        temp = np.power(self.base, np.random.uniform(self.low, self.high, size))\n",
    "        #res = self.sample(num)\n",
    "        res = temp\n",
    "        #res = res[res>=0]\n",
    "        res = res.reshape(-1,1)\n",
    "\n",
    "        return res"
   ]
  },
  {
   "cell_type": "code",
   "execution_count": 3,
   "metadata": {
    "collapsed": false
   },
   "outputs": [],
   "source": [
    "# Read data\n",
    "with open('results__2000__svc__predictive_accuracy.arff') as f:\n",
    "    df = a2p.load(f)\n",
    "    #print(ds)\n",
    "    \n",
    "\n",
    "# Rename all the columns without the @ thing\n",
    "df = df.rename(columns={col: col.split('@')[0] for col in df.columns})\n",
    "\n",
    "\n",
    "# Sorting all rows by first task id and then performance for each task\n",
    "df = df.sort_values(by = ['task_id','predictive_accuracy'], ascending=False)\n",
    "\n",
    "\n",
    "# Casting task_id to type int\n",
    "df['task_id'] = df['task_id'].astype('int64')\n",
    "\n",
    "task_ids = list(df.task_id.unique())\n"
   ]
  },
  {
   "cell_type": "code",
   "execution_count": null,
   "metadata": {
    "collapsed": false
   },
   "outputs": [],
   "source": []
  },
  {
   "cell_type": "code",
   "execution_count": 4,
   "metadata": {
    "collapsed": false
   },
   "outputs": [],
   "source": [
    "# Unpickling example\n",
    "\n",
    "results = []\n",
    "for task_no in task_ids:\n",
    "    no = str(task_no)\n",
    "    fil_name = \"kde_v_uni_\" + no + \".pickle\" \n",
    "    pickle_off = open(fil_name,\"rb\")\n",
    "    emp = pickle.load(pickle_off)\n",
    "    results.append(emp)"
   ]
  },
  {
   "cell_type": "code",
   "execution_count": 8,
   "metadata": {
    "collapsed": false
   },
   "outputs": [
    {
     "name": "stdout",
     "output_type": "stream",
     "text": [
      "-13\n",
      "-10\n",
      "5\n",
      "5\n",
      "0\n",
      "-14\n",
      "-1\n",
      "-16\n",
      "0\n",
      "2\n",
      "4\n",
      "-2\n",
      "-15\n",
      "5\n",
      "8\n",
      "-8\n",
      "-15\n",
      "17\n",
      "-7\n",
      "0\n",
      "-3\n",
      "-12\n",
      "4\n",
      "12\n",
      "11\n",
      "10\n",
      "-2\n",
      "19\n",
      "2\n",
      "-10\n",
      "7\n",
      "7\n",
      "-5\n",
      "-4\n",
      "2\n",
      "-13\n",
      "-13\n",
      "7\n",
      "1\n",
      "8\n",
      "1\n",
      "4\n"
     ]
    }
   ],
   "source": [
    "#index diff = k_i -u_i and perf diff = k_s - u_s\n",
    "indices = []\n",
    "for item in results:\n",
    "    print (item['index_diff'])\n",
    "    indices.append(item['index_diff'])"
   ]
  },
  {
   "cell_type": "code",
   "execution_count": 7,
   "metadata": {
    "collapsed": false
   },
   "outputs": [
    {
     "name": "stdout",
     "output_type": "stream",
     "text": [
      "0.0\n",
      "-0.0014880952380952328\n",
      "0.005018820577164379\n",
      "0.0011890606420927874\n",
      "0.0\n",
      "0.0\n",
      "-0.0014054813773717312\n",
      "0.0\n",
      "0.0\n",
      "0.0\n",
      "0.0008309098462816467\n",
      "0.0024368346800052176\n",
      "0.002020202020202033\n",
      "0.0002651113467656563\n",
      "0.0\n",
      "-0.00015552099533433505\n",
      "-0.013418079096045199\n",
      "0.0008000000000000229\n",
      "0.007092198581560294\n",
      "0.0\n",
      "0.005015673981191182\n",
      "-0.001304064333840449\n",
      "0.004392386530014614\n",
      "0.0013020833333333703\n",
      "-0.0034632034632035014\n",
      "-0.0009097525473070744\n",
      "0.0020000000000000018\n",
      "0.0\n",
      "0.00142348754448407\n",
      "0.002584933530280664\n",
      "-0.0013577732518669228\n",
      "0.0010000000000000009\n",
      "0.01041666666666663\n",
      "0.000500000000000056\n",
      "0.0014999999999999458\n",
      "-0.000500000000000056\n",
      "-0.0028612303290413976\n",
      "0.01849999999999996\n",
      "0.0\n",
      "0.02399999999999991\n",
      "4.999999999999449e-05\n",
      "0.0003128911138923218\n"
     ]
    }
   ],
   "source": [
    "perf = []\n",
    "for item in results:\n",
    "    print (item['perf_diff'])\n",
    "    perf.append(item['perf_diff'])"
   ]
  },
  {
   "cell_type": "code",
   "execution_count": 9,
   "metadata": {
    "collapsed": false
   },
   "outputs": [
    {
     "data": {
      "text/plain": [
       "-0.5238095238095238"
      ]
     },
     "execution_count": 9,
     "metadata": {},
     "output_type": "execute_result"
    }
   ],
   "source": [
    "np.mean(indices)"
   ]
  },
  {
   "cell_type": "code",
   "execution_count": 13,
   "metadata": {
    "collapsed": true
   },
   "outputs": [],
   "source": [
    "indices = pd.DataFrame(indices)\n",
    "PERF = pd.DataFrame(perf)"
   ]
  },
  {
   "cell_type": "code",
   "execution_count": 12,
   "metadata": {
    "collapsed": false
   },
   "outputs": [
    {
     "data": {
      "text/plain": [
       "array([[<matplotlib.axes._subplots.AxesSubplot object at 0x2aab1213b128>]],\n",
       "      dtype=object)"
      ]
     },
     "execution_count": 12,
     "metadata": {},
     "output_type": "execute_result"
    },
    {
     "data": {
      "image/png": "[encoded data removed]",
      "text/plain": [
       "<Figure size 432x288 with 1 Axes>"
      ]
     },
     "metadata": {},
     "output_type": "display_data"
    }
   ],
   "source": [
    "%matplotlib inline\n",
    "indices.hist()"
   ]
  },
  {
   "cell_type": "code",
   "execution_count": 15,
   "metadata": {
    "collapsed": false
   },
   "outputs": [
    {
     "data": {
      "text/plain": [
       "array([[<matplotlib.axes._subplots.AxesSubplot object at 0x2aab2308e470>]],\n",
       "      dtype=object)"
      ]
     },
     "execution_count": 15,
     "metadata": {},
     "output_type": "execute_result"
    },
    {
     "data": {
      "image/png": "[encoded data removed]",
      "text/plain": [
       "<Figure size 432x288 with 1 Axes>"
      ]
     },
     "metadata": {},
     "output_type": "display_data"
    }
   ],
   "source": [
    "PERF.hist()"
   ]
  },
  {
   "cell_type": "code",
   "execution_count": null,
   "metadata": {
    "collapsed": true
   },
   "outputs": [],
   "source": []
  }
 ],
 "metadata": {
  "anaconda-cloud": {},
  "kernelspec": {
   "display_name": "Python [conda env:myenv2]",
   "language": "python",
   "name": "conda-env-myenv2-py"
  },
  "language_info": {
   "codemirror_mode": {
    "name": "ipython",
    "version": 3
   },
   "file_extension": ".py",
   "mimetype": "text/x-python",
   "name": "python",
   "nbconvert_exporter": "python",
   "pygments_lexer": "ipython3",
   "version": "3.6.2"
  }
 },
 "nbformat": 4,
 "nbformat_minor": 1
}
