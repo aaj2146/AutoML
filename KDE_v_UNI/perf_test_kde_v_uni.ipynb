{
 "cells": [
  {
   "cell_type": "code",
   "execution_count": 2,
   "metadata": {
    "collapsed": true
   },
   "outputs": [],
   "source": [
    "import pandas as pd\n",
    "from arff2pandas import  a2p\n",
    "import pickle\n",
    "import numpy as np"
   ]
  },
  {
   "cell_type": "code",
   "execution_count": 3,
   "metadata": {
    "collapsed": true
   },
   "outputs": [],
   "source": [
    "class loguni():\n",
    "    def __init__(self, low, high, base = 10):\n",
    "        self.low = low\n",
    "        self.high = high\n",
    "        self.base = base\n",
    "        \n",
    "    def rvs(self, size = 1, random_state = None):\n",
    "        #def rvs(self, num = 1, random_state = None):\n",
    "        temp = np.power(self.base, np.random.uniform(self.low, self.high, size))\n",
    "        #res = self.sample(num)\n",
    "        res = temp\n",
    "        #res = res[res>=0]\n",
    "        res = res.reshape(-1,1)\n",
    "\n",
    "        return res"
   ]
  },
  {
   "cell_type": "code",
   "execution_count": 4,
   "metadata": {
    "collapsed": false
   },
   "outputs": [],
   "source": [
    "# Read data\n",
    "with open('results__2000__svc__predictive_accuracy.arff') as f:\n",
    "    df = a2p.load(f)\n",
    "    #print(ds)\n",
    "    \n",
    "\n",
    "# Rename all the columns without the @ thing\n",
    "df = df.rename(columns={col: col.split('@')[0] for col in df.columns})\n",
    "\n",
    "\n",
    "# Sorting all rows by first task id and then performance for each task\n",
    "df = df.sort_values(by = ['task_id','predictive_accuracy'], ascending=False)\n",
    "\n",
    "\n",
    "# Casting task_id to type int\n",
    "df['task_id'] = df['task_id'].astype('int64')\n",
    "\n",
    "task_ids = list(df.task_id.unique())\n"
   ]
  },
  {
   "cell_type": "code",
   "execution_count": null,
   "metadata": {
    "collapsed": false
   },
   "outputs": [],
   "source": []
  },
  {
   "cell_type": "code",
   "execution_count": 5,
   "metadata": {
    "collapsed": false
   },
   "outputs": [],
   "source": [
    "# Unpickling example\n",
    "\n",
    "results = []\n",
    "for task_no in task_ids:\n",
    "    no = str(task_no)\n",
    "    fil_name = \"kde_v_uni_\" + no + \".pickle\" \n",
    "    pickle_off = open(fil_name,\"rb\")\n",
    "    emp = pickle.load(pickle_off)\n",
    "    results.append(emp)"
   ]
  },
  {
   "cell_type": "code",
   "execution_count": 38,
   "metadata": {
    "collapsed": false
   },
   "outputs": [],
   "source": [
    "#index diff = k_i -u_i and perf diff = k_s - u_s\n",
    "indices = []\n",
    "for item in results:\n",
    "    #print (item['index_diff'])\n",
    "    indices.append(item['index_diff'])"
   ]
  },
  {
   "cell_type": "code",
   "execution_count": 39,
   "metadata": {
    "collapsed": false
   },
   "outputs": [],
   "source": [
    "perf = []\n",
    "for item in results:\n",
    "    #print (item['perf_diff'])\n",
    "    perf.append(item['perf_diff'])"
   ]
  },
  {
   "cell_type": "code",
   "execution_count": 42,
   "metadata": {
    "collapsed": true
   },
   "outputs": [],
   "source": [
    "perf = pd.DataFrame(perf)\n",
    "indices = pd.DataFrame(indices)"
   ]
  },
  {
   "cell_type": "code",
   "execution_count": 55,
   "metadata": {
    "collapsed": false
   },
   "outputs": [
    {
     "data": {
      "text/plain": [
       "-0.5238095238095238"
      ]
     },
     "execution_count": 55,
     "metadata": {},
     "output_type": "execute_result"
    }
   ],
   "source": [
    "np.mean(indices[\"Difference in Index of best test accuracy (kernel - uniform)\"].values)"
   ]
  },
  {
   "cell_type": "code",
   "execution_count": 56,
   "metadata": {
    "collapsed": false
   },
   "outputs": [
    {
     "data": {
      "text/html": [
       "<div>\n",
       "<style scoped>\n",
       "    .dataframe tbody tr th:only-of-type {\n",
       "        vertical-align: middle;\n",
       "    }\n",
       "\n",
       "    .dataframe tbody tr th {\n",
       "        vertical-align: top;\n",
       "    }\n",
       "\n",
       "    .dataframe thead th {\n",
       "        text-align: right;\n",
       "    }\n",
       "</style>\n",
       "<table border=\"1\" class=\"dataframe\">\n",
       "  <thead>\n",
       "    <tr style=\"text-align: right;\">\n",
       "      <th></th>\n",
       "      <th>0</th>\n",
       "      <th>Difference in Index of best test accuracy (kernel - uniform)</th>\n",
       "    </tr>\n",
       "  </thead>\n",
       "  <tbody>\n",
       "    <tr>\n",
       "      <th>0</th>\n",
       "      <td>-13</td>\n",
       "      <td>-13</td>\n",
       "    </tr>\n",
       "    <tr>\n",
       "      <th>1</th>\n",
       "      <td>-10</td>\n",
       "      <td>-10</td>\n",
       "    </tr>\n",
       "    <tr>\n",
       "      <th>2</th>\n",
       "      <td>5</td>\n",
       "      <td>5</td>\n",
       "    </tr>\n",
       "    <tr>\n",
       "      <th>3</th>\n",
       "      <td>5</td>\n",
       "      <td>5</td>\n",
       "    </tr>\n",
       "    <tr>\n",
       "      <th>4</th>\n",
       "      <td>0</td>\n",
       "      <td>0</td>\n",
       "    </tr>\n",
       "    <tr>\n",
       "      <th>5</th>\n",
       "      <td>-14</td>\n",
       "      <td>-14</td>\n",
       "    </tr>\n",
       "    <tr>\n",
       "      <th>6</th>\n",
       "      <td>-1</td>\n",
       "      <td>-1</td>\n",
       "    </tr>\n",
       "    <tr>\n",
       "      <th>7</th>\n",
       "      <td>-16</td>\n",
       "      <td>-16</td>\n",
       "    </tr>\n",
       "    <tr>\n",
       "      <th>8</th>\n",
       "      <td>0</td>\n",
       "      <td>0</td>\n",
       "    </tr>\n",
       "    <tr>\n",
       "      <th>9</th>\n",
       "      <td>2</td>\n",
       "      <td>2</td>\n",
       "    </tr>\n",
       "    <tr>\n",
       "      <th>10</th>\n",
       "      <td>4</td>\n",
       "      <td>4</td>\n",
       "    </tr>\n",
       "    <tr>\n",
       "      <th>11</th>\n",
       "      <td>-2</td>\n",
       "      <td>-2</td>\n",
       "    </tr>\n",
       "    <tr>\n",
       "      <th>12</th>\n",
       "      <td>-15</td>\n",
       "      <td>-15</td>\n",
       "    </tr>\n",
       "    <tr>\n",
       "      <th>13</th>\n",
       "      <td>5</td>\n",
       "      <td>5</td>\n",
       "    </tr>\n",
       "    <tr>\n",
       "      <th>14</th>\n",
       "      <td>8</td>\n",
       "      <td>8</td>\n",
       "    </tr>\n",
       "    <tr>\n",
       "      <th>15</th>\n",
       "      <td>-8</td>\n",
       "      <td>-8</td>\n",
       "    </tr>\n",
       "    <tr>\n",
       "      <th>16</th>\n",
       "      <td>-15</td>\n",
       "      <td>-15</td>\n",
       "    </tr>\n",
       "    <tr>\n",
       "      <th>17</th>\n",
       "      <td>17</td>\n",
       "      <td>17</td>\n",
       "    </tr>\n",
       "    <tr>\n",
       "      <th>18</th>\n",
       "      <td>-7</td>\n",
       "      <td>-7</td>\n",
       "    </tr>\n",
       "    <tr>\n",
       "      <th>19</th>\n",
       "      <td>0</td>\n",
       "      <td>0</td>\n",
       "    </tr>\n",
       "    <tr>\n",
       "      <th>20</th>\n",
       "      <td>-3</td>\n",
       "      <td>-3</td>\n",
       "    </tr>\n",
       "    <tr>\n",
       "      <th>21</th>\n",
       "      <td>-12</td>\n",
       "      <td>-12</td>\n",
       "    </tr>\n",
       "    <tr>\n",
       "      <th>22</th>\n",
       "      <td>4</td>\n",
       "      <td>4</td>\n",
       "    </tr>\n",
       "    <tr>\n",
       "      <th>23</th>\n",
       "      <td>12</td>\n",
       "      <td>12</td>\n",
       "    </tr>\n",
       "    <tr>\n",
       "      <th>24</th>\n",
       "      <td>11</td>\n",
       "      <td>11</td>\n",
       "    </tr>\n",
       "    <tr>\n",
       "      <th>25</th>\n",
       "      <td>10</td>\n",
       "      <td>10</td>\n",
       "    </tr>\n",
       "    <tr>\n",
       "      <th>26</th>\n",
       "      <td>-2</td>\n",
       "      <td>-2</td>\n",
       "    </tr>\n",
       "    <tr>\n",
       "      <th>27</th>\n",
       "      <td>19</td>\n",
       "      <td>19</td>\n",
       "    </tr>\n",
       "    <tr>\n",
       "      <th>28</th>\n",
       "      <td>2</td>\n",
       "      <td>2</td>\n",
       "    </tr>\n",
       "    <tr>\n",
       "      <th>29</th>\n",
       "      <td>-10</td>\n",
       "      <td>-10</td>\n",
       "    </tr>\n",
       "    <tr>\n",
       "      <th>30</th>\n",
       "      <td>7</td>\n",
       "      <td>7</td>\n",
       "    </tr>\n",
       "    <tr>\n",
       "      <th>31</th>\n",
       "      <td>7</td>\n",
       "      <td>7</td>\n",
       "    </tr>\n",
       "    <tr>\n",
       "      <th>32</th>\n",
       "      <td>-5</td>\n",
       "      <td>-5</td>\n",
       "    </tr>\n",
       "    <tr>\n",
       "      <th>33</th>\n",
       "      <td>-4</td>\n",
       "      <td>-4</td>\n",
       "    </tr>\n",
       "    <tr>\n",
       "      <th>34</th>\n",
       "      <td>2</td>\n",
       "      <td>2</td>\n",
       "    </tr>\n",
       "    <tr>\n",
       "      <th>35</th>\n",
       "      <td>-13</td>\n",
       "      <td>-13</td>\n",
       "    </tr>\n",
       "    <tr>\n",
       "      <th>36</th>\n",
       "      <td>-13</td>\n",
       "      <td>-13</td>\n",
       "    </tr>\n",
       "    <tr>\n",
       "      <th>37</th>\n",
       "      <td>7</td>\n",
       "      <td>7</td>\n",
       "    </tr>\n",
       "    <tr>\n",
       "      <th>38</th>\n",
       "      <td>1</td>\n",
       "      <td>1</td>\n",
       "    </tr>\n",
       "    <tr>\n",
       "      <th>39</th>\n",
       "      <td>8</td>\n",
       "      <td>8</td>\n",
       "    </tr>\n",
       "    <tr>\n",
       "      <th>40</th>\n",
       "      <td>1</td>\n",
       "      <td>1</td>\n",
       "    </tr>\n",
       "    <tr>\n",
       "      <th>41</th>\n",
       "      <td>4</td>\n",
       "      <td>4</td>\n",
       "    </tr>\n",
       "  </tbody>\n",
       "</table>\n",
       "</div>"
      ],
      "text/plain": [
       "     0  Difference in Index of best test accuracy (kernel - uniform)\n",
       "0  -13                                                -13           \n",
       "1  -10                                                -10           \n",
       "2    5                                                  5           \n",
       "3    5                                                  5           \n",
       "4    0                                                  0           \n",
       "5  -14                                                -14           \n",
       "6   -1                                                 -1           \n",
       "7  -16                                                -16           \n",
       "8    0                                                  0           \n",
       "9    2                                                  2           \n",
       "10   4                                                  4           \n",
       "11  -2                                                 -2           \n",
       "12 -15                                                -15           \n",
       "13   5                                                  5           \n",
       "14   8                                                  8           \n",
       "15  -8                                                 -8           \n",
       "16 -15                                                -15           \n",
       "17  17                                                 17           \n",
       "18  -7                                                 -7           \n",
       "19   0                                                  0           \n",
       "20  -3                                                 -3           \n",
       "21 -12                                                -12           \n",
       "22   4                                                  4           \n",
       "23  12                                                 12           \n",
       "24  11                                                 11           \n",
       "25  10                                                 10           \n",
       "26  -2                                                 -2           \n",
       "27  19                                                 19           \n",
       "28   2                                                  2           \n",
       "29 -10                                                -10           \n",
       "30   7                                                  7           \n",
       "31   7                                                  7           \n",
       "32  -5                                                 -5           \n",
       "33  -4                                                 -4           \n",
       "34   2                                                  2           \n",
       "35 -13                                                -13           \n",
       "36 -13                                                -13           \n",
       "37   7                                                  7           \n",
       "38   1                                                  1           \n",
       "39   8                                                  8           \n",
       "40   1                                                  1           \n",
       "41   4                                                  4           "
      ]
     },
     "execution_count": 56,
     "metadata": {},
     "output_type": "execute_result"
    }
   ],
   "source": [
    "indices"
   ]
  },
  {
   "cell_type": "code",
   "execution_count": 43,
   "metadata": {
    "collapsed": false
   },
   "outputs": [
    {
     "data": {
      "text/plain": [
       "0   -0.52381\n",
       "dtype: float64"
      ]
     },
     "execution_count": 43,
     "metadata": {},
     "output_type": "execute_result"
    }
   ],
   "source": [
    "np.mean(indices)"
   ]
  },
  {
   "cell_type": "code",
   "execution_count": 44,
   "metadata": {
    "collapsed": false
   },
   "outputs": [
    {
     "data": {
      "text/plain": [
       "0    0.428571\n",
       "dtype: float64"
      ]
     },
     "execution_count": 44,
     "metadata": {},
     "output_type": "execute_result"
    }
   ],
   "source": [
    "np.mean(indices < 0)"
   ]
  },
  {
   "cell_type": "code",
   "execution_count": 45,
   "metadata": {
    "collapsed": false
   },
   "outputs": [
    {
     "data": {
      "text/plain": [
       "0    0.52381\n",
       "dtype: float64"
      ]
     },
     "execution_count": 45,
     "metadata": {},
     "output_type": "execute_result"
    }
   ],
   "source": [
    "np.mean(PERF > 0)"
   ]
  },
  {
   "cell_type": "code",
   "execution_count": null,
   "metadata": {
    "collapsed": true
   },
   "outputs": [],
   "source": []
  },
  {
   "cell_type": "code",
   "execution_count": 46,
   "metadata": {
    "collapsed": false
   },
   "outputs": [
    {
     "data": {
      "text/plain": [
       "0.0015663823752816396"
      ]
     },
     "execution_count": 46,
     "metadata": {},
     "output_type": "execute_result"
    }
   ],
   "source": [
    "np.mean(PERF.values)"
   ]
  },
  {
   "cell_type": "code",
   "execution_count": 47,
   "metadata": {
    "collapsed": false
   },
   "outputs": [
    {
     "data": {
      "text/plain": [
       "RangeIndex(start=0, stop=1, step=1)"
      ]
     },
     "execution_count": 47,
     "metadata": {},
     "output_type": "execute_result"
    }
   ],
   "source": [
    "indices.columns"
   ]
  },
  {
   "cell_type": "code",
   "execution_count": 48,
   "metadata": {
    "collapsed": false
   },
   "outputs": [],
   "source": [
    "indices[\"Difference in Index of best test accuracy (kernel - uniform)\"] = indices.values"
   ]
  },
  {
   "cell_type": "code",
   "execution_count": null,
   "metadata": {
    "collapsed": false
   },
   "outputs": [],
   "source": []
  },
  {
   "cell_type": "code",
   "execution_count": 51,
   "metadata": {
    "collapsed": false
   },
   "outputs": [
    {
     "data": {
      "text/plain": [
       "array([[<matplotlib.axes._subplots.AxesSubplot object at 0x2aab24daa080>]],\n",
       "      dtype=object)"
      ]
     },
     "execution_count": 51,
     "metadata": {},
     "output_type": "execute_result"
    },
    {
     "data": {
      "image/png": "[encoded data removed]",
      "text/plain": [
       "<Figure size 432x288 with 1 Axes>"
      ]
     },
     "metadata": {},
     "output_type": "display_data"
    }
   ],
   "source": [
    "%matplotlib inline\n",
    "indices.hist(column=\"Difference in Index of best test accuracy (kernel - uniform)\")"
   ]
  },
  {
   "cell_type": "code",
   "execution_count": 52,
   "metadata": {
    "collapsed": true
   },
   "outputs": [],
   "source": [
    "perf[\"Difference in performance (kernel - uniform)\"] = perf.values"
   ]
  },
  {
   "cell_type": "code",
   "execution_count": 53,
   "metadata": {
    "collapsed": false
   },
   "outputs": [
    {
     "data": {
      "text/plain": [
       "array([[<matplotlib.axes._subplots.AxesSubplot object at 0x2aab24ab9470>]],\n",
       "      dtype=object)"
      ]
     },
     "execution_count": 53,
     "metadata": {},
     "output_type": "execute_result"
    },
    {
     "data": {
      "image/png": "[encoded data removed]",
      "text/plain": [
       "<Figure size 432x288 with 1 Axes>"
      ]
     },
     "metadata": {},
     "output_type": "display_data"
    }
   ],
   "source": [
    "perf.hist(bins=50, column=[\"Difference in performance (kernel - uniform)\"])"
   ]
  },
  {
   "cell_type": "code",
   "execution_count": 21,
   "metadata": {
    "collapsed": false
   },
   "outputs": [
    {
     "data": {
      "text/html": [
       "<script type=\"text/javascript\">window.PlotlyConfig = {MathJaxConfig: 'local'};</script><script type=\"text/javascript\">if (window.MathJax) {MathJax.Hub.Config({SVG: {font: \"STIX-Web\"}});}</script><script>requirejs.config({paths: { 'plotly': ['https://cdn.plot.ly/plotly-latest.min']},});if(!window._Plotly) {require(['plotly'],function(plotly) {window._Plotly=plotly;});}</script>"
      ],
      "text/vnd.plotly.v1+html": [
       "<script type=\"text/javascript\">window.PlotlyConfig = {MathJaxConfig: 'local'};</script><script type=\"text/javascript\">if (window.MathJax) {MathJax.Hub.Config({SVG: {font: \"STIX-Web\"}});}</script><script>requirejs.config({paths: { 'plotly': ['https://cdn.plot.ly/plotly-latest.min']},});if(!window._Plotly) {require(['plotly'],function(plotly) {window._Plotly=plotly;});}</script>"
      ]
     },
     "metadata": {},
     "output_type": "display_data"
    }
   ],
   "source": [
    "import plotly.offline as py\n",
    "import plotly.graph_objs as go\n",
    "from plotly import __version__\n",
    "from plotly.offline import download_plotlyjs, init_notebook_mode, plot, iplot\n",
    "init_notebook_mode(connected=True)\n",
    "import numpy as np\n",
    "\n",
    "def plot_hist(x, title = '', \n",
    "              xlabel = '', \n",
    "              y_label = '', \n",
    "              start = None,\n",
    "              size = None, \n",
    "              end = None):\n",
    "    trace1 = go.Histogram(\n",
    "        x=x,\n",
    "        histnorm='percent',\n",
    "        name='control',\n",
    "        xbins=dict(\n",
    "            start=start,\n",
    "            end=end,\n",
    "            size=size\n",
    "        ),\n",
    "        marker=dict(\n",
    "            color='green',\n",
    "        ),\n",
    "        opacity=0.75\n",
    "    )\n",
    "    \n",
    "    data = [trace1]\n",
    "\n",
    "    layout = go.Layout(\n",
    "        title=title,\n",
    "        xaxis=dict(\n",
    "            title=xlabel\n",
    "        ),\n",
    "        yaxis=dict(\n",
    "            title=y_label\n",
    "        )\n",
    "    )\n",
    "    fig = go.Figure(data=data, layout=layout)\n",
    "    py.iplot(fig, filename='styled histogram')"
   ]
  },
  {
   "cell_type": "code",
   "execution_count": 22,
   "metadata": {
    "collapsed": false
   },
   "outputs": [
    {
     "data": {
      "application/vnd.plotly.v1+json": {
       "config": {
        "linkText": "Export to plot.ly",
        "plotlyServerURL": "https://plot.ly",
        "showLink": true
       },
       "data": [
        {
         "histnorm": "percent",
         "marker": {
          "color": "green"
         },
         "name": "control",
         "opacity": 0.75,
         "type": "histogram",
         "uid": "03e08499-5770-41eb-add0-897c640296d0",
         "x": [
          [
           0
          ],
          [
           -0.0014880952380952328
          ],
          [
           0.005018820577164379
          ],
          [
           0.0011890606420927874
          ],
          [
           0
          ],
          [
           0
          ],
          [
           -0.0014054813773717312
          ],
          [
           0
          ],
          [
           0
          ],
          [
           0
          ],
          [
           0.0008309098462816467
          ],
          [
           0.0024368346800052176
          ],
          [
           0.002020202020202033
          ],
          [
           0.0002651113467656563
          ],
          [
           0
          ],
          [
           -0.00015552099533433505
          ],
          [
           -0.013418079096045199
          ],
          [
           0.0008000000000000229
          ],
          [
           0.007092198581560294
          ],
          [
           0
          ],
          [
           0.005015673981191182
          ],
          [
           -0.001304064333840449
          ],
          [
           0.004392386530014614
          ],
          [
           0.0013020833333333703
          ],
          [
           -0.0034632034632035014
          ],
          [
           -0.0009097525473070744
          ],
          [
           0.0020000000000000018
          ],
          [
           0
          ],
          [
           0.00142348754448407
          ],
          [
           0.002584933530280664
          ],
          [
           -0.0013577732518669228
          ],
          [
           0.0010000000000000009
          ],
          [
           0.01041666666666663
          ],
          [
           0.000500000000000056
          ],
          [
           0.0014999999999999458
          ],
          [
           -0.000500000000000056
          ],
          [
           -0.0028612303290413976
          ],
          [
           0.01849999999999996
          ],
          [
           0
          ],
          [
           0.02399999999999991
          ],
          [
           4.999999999999449e-05
          ],
          [
           0.0003128911138923218
          ]
         ],
         "xbins": {
          "end": 1,
          "size": 1e-06,
          "start": -1
         }
        }
       ],
       "layout": {
        "title": "",
        "xaxis": {
         "title": ""
        },
        "yaxis": {
         "title": ""
        }
       }
      },
      "text/html": [
       "<div id=\"74499fee-9aa6-4308-90ea-29a7c0026617\" style=\"height: 525px; width: 100%;\" class=\"plotly-graph-div\"></div><script type=\"text/javascript\">require([\"plotly\"], function(Plotly) { window.PLOTLYENV=window.PLOTLYENV || {};window.PLOTLYENV.BASE_URL=\"https://plot.ly\";Plotly.newPlot(\"74499fee-9aa6-4308-90ea-29a7c0026617\", [{\"histnorm\": \"percent\", \"marker\": {\"color\": \"green\"}, \"name\": \"control\", \"opacity\": 0.75, \"x\": [[0.0], [-0.0014880952380952328], [0.005018820577164379], [0.0011890606420927874], [0.0], [0.0], [-0.0014054813773717312], [0.0], [0.0], [0.0], [0.0008309098462816467], [0.0024368346800052176], [0.002020202020202033], [0.0002651113467656563], [0.0], [-0.00015552099533433505], [-0.013418079096045199], [0.0008000000000000229], [0.007092198581560294], [0.0], [0.005015673981191182], [-0.001304064333840449], [0.004392386530014614], [0.0013020833333333703], [-0.0034632034632035014], [-0.0009097525473070744], [0.0020000000000000018], [0.0], [0.00142348754448407], [0.002584933530280664], [-0.0013577732518669228], [0.0010000000000000009], [0.01041666666666663], [0.000500000000000056], [0.0014999999999999458], [-0.000500000000000056], [-0.0028612303290413976], [0.01849999999999996], [0.0], [0.02399999999999991], [4.999999999999449e-05], [0.0003128911138923218]], \"xbins\": {\"end\": 1, \"size\": 1e-06, \"start\": -1}, \"type\": \"histogram\", \"uid\": \"03e08499-5770-41eb-add0-897c640296d0\"}], {\"title\": \"\", \"xaxis\": {\"title\": \"\"}, \"yaxis\": {\"title\": \"\"}}, {\"showLink\": true, \"linkText\": \"Export to plot.ly\", \"plotlyServerURL\": \"https://plot.ly\"})});</script><script type=\"text/javascript\">window.addEventListener(\"resize\", function(){window._Plotly.Plots.resize(document.getElementById(\"74499fee-9aa6-4308-90ea-29a7c0026617\"));});</script>"
      ],
      "text/vnd.plotly.v1+html": [
       "<div id=\"74499fee-9aa6-4308-90ea-29a7c0026617\" style=\"height: 525px; width: 100%;\" class=\"plotly-graph-div\"></div><script type=\"text/javascript\">require([\"plotly\"], function(Plotly) { window.PLOTLYENV=window.PLOTLYENV || {};window.PLOTLYENV.BASE_URL=\"https://plot.ly\";Plotly.newPlot(\"74499fee-9aa6-4308-90ea-29a7c0026617\", [{\"histnorm\": \"percent\", \"marker\": {\"color\": \"green\"}, \"name\": \"control\", \"opacity\": 0.75, \"x\": [[0.0], [-0.0014880952380952328], [0.005018820577164379], [0.0011890606420927874], [0.0], [0.0], [-0.0014054813773717312], [0.0], [0.0], [0.0], [0.0008309098462816467], [0.0024368346800052176], [0.002020202020202033], [0.0002651113467656563], [0.0], [-0.00015552099533433505], [-0.013418079096045199], [0.0008000000000000229], [0.007092198581560294], [0.0], [0.005015673981191182], [-0.001304064333840449], [0.004392386530014614], [0.0013020833333333703], [-0.0034632034632035014], [-0.0009097525473070744], [0.0020000000000000018], [0.0], [0.00142348754448407], [0.002584933530280664], [-0.0013577732518669228], [0.0010000000000000009], [0.01041666666666663], [0.000500000000000056], [0.0014999999999999458], [-0.000500000000000056], [-0.0028612303290413976], [0.01849999999999996], [0.0], [0.02399999999999991], [4.999999999999449e-05], [0.0003128911138923218]], \"xbins\": {\"end\": 1, \"size\": 1e-06, \"start\": -1}, \"type\": \"histogram\", \"uid\": \"03e08499-5770-41eb-add0-897c640296d0\"}], {\"title\": \"\", \"xaxis\": {\"title\": \"\"}, \"yaxis\": {\"title\": \"\"}}, {\"showLink\": true, \"linkText\": \"Export to plot.ly\", \"plotlyServerURL\": \"https://plot.ly\"})});</script><script type=\"text/javascript\">window.addEventListener(\"resize\", function(){window._Plotly.Plots.resize(document.getElementById(\"74499fee-9aa6-4308-90ea-29a7c0026617\"));});</script>"
      ]
     },
     "metadata": {},
     "output_type": "display_data"
    }
   ],
   "source": [
    "plot_hist(x = PERF.values, start=-1, end = 1, size = 0.000001 )"
   ]
  },
  {
   "cell_type": "code",
   "execution_count": 15,
   "metadata": {
    "collapsed": false
   },
   "outputs": [
    {
     "data": {
      "text/plain": [
       "array([[ 0.00000000e+00],\n",
       "       [-1.48809524e-03],\n",
       "       [ 5.01882058e-03],\n",
       "       [ 1.18906064e-03],\n",
       "       [ 0.00000000e+00],\n",
       "       [ 0.00000000e+00],\n",
       "       [-1.40548138e-03],\n",
       "       [ 0.00000000e+00],\n",
       "       [ 0.00000000e+00],\n",
       "       [ 0.00000000e+00],\n",
       "       [ 8.30909846e-04],\n",
       "       [ 2.43683468e-03],\n",
       "       [ 2.02020202e-03],\n",
       "       [ 2.65111347e-04],\n",
       "       [ 0.00000000e+00],\n",
       "       [-1.55520995e-04],\n",
       "       [-1.34180791e-02],\n",
       "       [ 8.00000000e-04],\n",
       "       [ 7.09219858e-03],\n",
       "       [ 0.00000000e+00],\n",
       "       [ 5.01567398e-03],\n",
       "       [-1.30406433e-03],\n",
       "       [ 4.39238653e-03],\n",
       "       [ 1.30208333e-03],\n",
       "       [-3.46320346e-03],\n",
       "       [-9.09752547e-04],\n",
       "       [ 2.00000000e-03],\n",
       "       [ 0.00000000e+00],\n",
       "       [ 1.42348754e-03],\n",
       "       [ 2.58493353e-03],\n",
       "       [-1.35777325e-03],\n",
       "       [ 1.00000000e-03],\n",
       "       [ 1.04166667e-02],\n",
       "       [ 5.00000000e-04],\n",
       "       [ 1.50000000e-03],\n",
       "       [-5.00000000e-04],\n",
       "       [-2.86123033e-03],\n",
       "       [ 1.85000000e-02],\n",
       "       [ 0.00000000e+00],\n",
       "       [ 2.40000000e-02],\n",
       "       [ 5.00000000e-05],\n",
       "       [ 3.12891114e-04]])"
      ]
     },
     "execution_count": 15,
     "metadata": {},
     "output_type": "execute_result"
    }
   ],
   "source": [
    "PERF.values"
   ]
  },
  {
   "cell_type": "code",
   "execution_count": null,
   "metadata": {
    "collapsed": true
   },
   "outputs": [],
   "source": []
  }
 ],
 "metadata": {
  "anaconda-cloud": {},
  "kernelspec": {
   "display_name": "Python [conda env:myenv2]",
   "language": "python",
   "name": "conda-env-myenv2-py"
  },
  "language_info": {
   "codemirror_mode": {
    "name": "ipython",
    "version": 3
   },
   "file_extension": ".py",
   "mimetype": "text/x-python",
   "name": "python",
   "nbconvert_exporter": "python",
   "pygments_lexer": "ipython3",
   "version": "3.6.2"
  }
 },
 "nbformat": 4,
 "nbformat_minor": 1
}
