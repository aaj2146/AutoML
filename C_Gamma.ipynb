{
 "cells": [
  {
   "cell_type": "code",
   "execution_count": 1,
   "metadata": {
    "collapsed": false
   },
   "outputs": [
    {
     "data": {
      "text/html": [
       "<script type=\"text/javascript\">window.PlotlyConfig = {MathJaxConfig: 'local'};</script><script type=\"text/javascript\">if (window.MathJax) {MathJax.Hub.Config({SVG: {font: \"STIX-Web\"}});}</script><script>requirejs.config({paths: { 'plotly': ['https://cdn.plot.ly/plotly-latest.min']},});if(!window._Plotly) {require(['plotly'],function(plotly) {window._Plotly=plotly;});}</script>"
      ],
      "text/vnd.plotly.v1+html": [
       "<script type=\"text/javascript\">window.PlotlyConfig = {MathJaxConfig: 'local'};</script><script type=\"text/javascript\">if (window.MathJax) {MathJax.Hub.Config({SVG: {font: \"STIX-Web\"}});}</script><script>requirejs.config({paths: { 'plotly': ['https://cdn.plot.ly/plotly-latest.min']},});if(!window._Plotly) {require(['plotly'],function(plotly) {window._Plotly=plotly;});}</script>"
      ]
     },
     "metadata": {},
     "output_type": "display_data"
    }
   ],
   "source": [
    "import warnings\n",
    "warnings.filterwarnings(\"ignore\") \n",
    "\n",
    "import pandas as pd\n",
    "from scipy.stats import gaussian_kde\n",
    "from scipy.stats.distributions import uniform\n",
    "import pandas as pd\n",
    "import numpy as np\n",
    "import matplotlib.mlab as mlab\n",
    "import matplotlib.pyplot as plt\n",
    "import plotly.offline as py\n",
    "import plotly.graph_objs as go\n",
    "from plotly import __version__\n",
    "from plotly.offline import download_plotlyjs, init_notebook_mode, plot, iplot\n",
    "from arff2pandas import a2p\n",
    "\n",
    "from sklearn import preprocessing, tree, pipeline\n",
    "from sklearn import pipeline \n",
    "from sklearn.preprocessing import Imputer, OneHotEncoder, StandardScaler\n",
    "from sklearn.impute import SimpleImputer\n",
    "from sklearn.compose import ColumnTransformer\n",
    "from sklearn.model_selection import RandomizedSearchCV, GridSearchCV, cross_val_score\n",
    "from sklearn.svm import SVC, LinearSVC, SVR\n",
    "from sklearn.feature_selection import VarianceThreshold\n",
    "from sklearn.model_selection import train_test_split\n",
    "from sklearn.ensemble import RandomForestRegressor\n",
    "from sklearn.metrics import mean_absolute_error\n",
    "#import ConfigSpace\n",
    "import importlib\n",
    "\n",
    "init_notebook_mode(connected=True)"
   ]
  },
  {
   "cell_type": "code",
   "execution_count": 2,
   "metadata": {
    "collapsed": true
   },
   "outputs": [],
   "source": [
    "# Creating an alternate Guassian KDE function\n",
    "\n",
    "class alt_gauss(gaussian_kde):\n",
    "    \n",
    "    def rvs(self, size = 1, random_state = None):\n",
    "        res = self.resample(size)\n",
    "        res = res[res>=0]\n",
    "        res = res.reshape(-1,1)\n",
    "        \n",
    "        return res\n",
    "\n",
    "    \n",
    "# Creating a class to create log uniform distributions\n",
    "    \n",
    "class loguni():\n",
    "    def __init__(self, low, high, base = 10):\n",
    "        self.low = low\n",
    "        self.high = high\n",
    "        self.base = base\n",
    "        \n",
    "    def rvs(self, size = 1, random_state = None):\n",
    "        #def rvs(self, num = 1, random_state = None):\n",
    "        temp = np.power(self.base, np.random.uniform(self.low, self.high, size))\n",
    "        #res = self.sample(num)\n",
    "        res = temp\n",
    "        #res = res[res>=0]\n",
    "        res = res.reshape(-1,1)\n",
    "\n",
    "        return res\n",
    "  \n",
    "# Defining a log histogram plot\n",
    "\n",
    "import matplotlib.pyplot as plt\n",
    "\n",
    "\n",
    "def plot_log_hist(x, bins = 50, show_linear = False, title = '', x_lab='',y_lab =''):\n",
    "    \n",
    "    #x = sigmoid_df['svc__gamma@NUMERIC']\n",
    "    x = np.array(x)\n",
    "\n",
    "    #x\n",
    "\n",
    "    # histogram on linear scale\n",
    "    if show_linear:\n",
    "        plt.subplot(211)\n",
    "    \n",
    "    hist, bins, _ = plt.hist(x, bins=bins, density=True)\n",
    "\n",
    "    # histogram on log scale. \n",
    "    # Use non-equal bin sizes, such that they look equal on log scale.\n",
    "    logbins = np.logspace(np.log10(bins[0]),np.log10(bins[-1]),len(bins))\n",
    "    plt.subplot(212)\n",
    "    plt.hist(x, bins=logbins)\n",
    "    #plt.subplot(211)\n",
    "    #plt.hist(y, bins=logbins)\n",
    "    plt.xscale('log')\n",
    "    plt.title(title)\n",
    "    plt.xlabel(x_lab)\n",
    "    plt.ylabel(y_lab)\n",
    "    plt.show()\n"
   ]
  },
  {
   "cell_type": "code",
   "execution_count": null,
   "metadata": {
    "collapsed": true
   },
   "outputs": [],
   "source": []
  },
  {
   "cell_type": "code",
   "execution_count": 3,
   "metadata": {
    "collapsed": true
   },
   "outputs": [],
   "source": [
    "# Read data\n",
    "with open('results__2000__svc__predictive_accuracy.arff') as f:\n",
    "    df = a2p.load(f)\n",
    "    #print(ds)\n",
    "    \n",
    "\n",
    "# Rename all the columns without the @ thing\n",
    "df = df.rename(columns={col: col.split('@')[0] for col in df.columns})\n",
    "\n",
    "\n",
    "# Sorting all rows by first task id and then performance for each task\n",
    "df = df.sort_values(by = ['task_id','predictive_accuracy'], ascending=False)\n",
    "\n",
    "\n",
    "# Casting task_id to type int\n",
    "df['task_id'] = df['task_id'].astype('int64')\n",
    "\n",
    "\n",
    "# dropping max iter parameter because it is constant:\n",
    "df = df[['columntransformer__numeric__imputer__strategy', 'predictive_accuracy',\n",
    "       'svc__C', 'svc__coef0', 'svc__degree', 'svc__gamma', 'svc__kernel',\n",
    "        'svc__shrinking', 'svc__tol', 'task_id']]\n",
    "\n"
   ]
  },
  {
   "cell_type": "code",
   "execution_count": 4,
   "metadata": {
    "collapsed": true
   },
   "outputs": [],
   "source": [
    "# Getting top 500 performance rows\n",
    "top = 500\n",
    "filtered_df = df.groupby(['task_id']).head(top)\n",
    "\n",
    "\n",
    "# Filtering out sigmoid and rbf\n",
    "sigmoid_df = filtered_df[filtered_df['svc__kernel'] == 'sigmoid']\n",
    "rbf_df = filtered_df[filtered_df['svc__kernel'] == 'rbf']\n",
    "\n",
    "# Fitting KDEs for Gamma parameter\n",
    "gamma_sig = alt_gauss(sigmoid_df['svc__gamma'].values, bw_method=1e-07)\n",
    "gamma_rbf = alt_gauss(rbf_df['svc__gamma'], bw_method=1e-07)\n",
    "\n",
    "# Fitting KDEs for C parameter\n",
    "C_sig = alt_gauss(sigmoid_df['svc__C'].values, bw_method=1e-06)\n",
    "C_rbf = alt_gauss(rbf_df['svc__C'].values, bw_method=1e-06)\n",
    "\n"
   ]
  },
  {
   "cell_type": "code",
   "execution_count": 5,
   "metadata": {
    "collapsed": false
   },
   "outputs": [
    {
     "data": {
      "image/png": "[encoded data removed]",
      "text/plain": [
       "<Figure size 432x288 with 1 Axes>"
      ]
     },
     "metadata": {},
     "output_type": "display_data"
    },
    {
     "data": {
      "image/png": "[encoded data removed]",
      "text/plain": [
       "<Figure size 432x288 with 1 Axes>"
      ]
     },
     "metadata": {},
     "output_type": "display_data"
    },
    {
     "data": {
      "image/png": "[encoded data removed]",
      "text/plain": [
       "<Figure size 432x288 with 1 Axes>"
      ]
     },
     "metadata": {},
     "output_type": "display_data"
    },
    {
     "data": {
      "image/png": "[encoded data removed]",
      "text/plain": [
       "<Figure size 432x288 with 1 Axes>"
      ]
     },
     "metadata": {},
     "output_type": "display_data"
    },
    {
     "data": {
      "image/png": "[encoded data removed]",
      "text/plain": [
       "<Figure size 432x288 with 1 Axes>"
      ]
     },
     "metadata": {},
     "output_type": "display_data"
    },
    {
     "data": {
      "image/png": "[encoded data removed]",
      "text/plain": [
       "<Figure size 432x288 with 1 Axes>"
      ]
     },
     "metadata": {},
     "output_type": "display_data"
    },
    {
     "data": {
      "image/png": "[encoded data removed]",
      "text/plain": [
       "<Figure size 432x288 with 1 Axes>"
      ]
     },
     "metadata": {},
     "output_type": "display_data"
    },
    {
     "data": {
      "image/png": "[encoded data removed]",
      "text/plain": [
       "<Figure size 432x288 with 1 Axes>"
      ]
     },
     "metadata": {},
     "output_type": "display_data"
    }
   ],
   "source": [
    "plot_log_hist(sigmoid_df['svc__gamma'], title='Distribution of Gamma for sigmoid kernel')\n",
    "plot_log_hist(gamma_sig.rvs(5000), title='KDE for Gamma of sigmoid')\n",
    "plot_log_hist(rbf_df['svc__gamma'], title='Gamma for rbf kernel')\n",
    "plot_log_hist(gamma_rbf.rvs(5000), title='KDE for Gamma of sigmoid')\n",
    "plot_log_hist(C_rbf.rvs(5000), title='KDE for C of rbf')\n",
    "plot_log_hist(rbf_df['svc__C'], title='Distribution of C for rbf kernel')\n",
    "plot_log_hist(C_sig.rvs(10000), title='KDE for C of sigmoid')\n",
    "plot_log_hist(sigmoid_df['svc__C'], title='C of sigmoid')"
   ]
  },
  {
   "cell_type": "code",
   "execution_count": 6,
   "metadata": {
    "collapsed": false
   },
   "outputs": [],
   "source": [
    "import warnings\n",
    "warnings.filterwarnings(\"ignore\") \n",
    "\n",
    "\n",
    "import openml\n",
    "#import arff\n",
    "from sklearn import preprocessing, tree, pipeline\n",
    "from sklearn.pipeline import make_pipeline\n",
    "from sklearn.preprocessing import Imputer, OneHotEncoder, StandardScaler\n",
    "from sklearn.impute import SimpleImputer\n",
    "from sklearn.compose import ColumnTransformer\n",
    "from sklearn.model_selection import RandomizedSearchCV, cross_val_score\n",
    "from sklearn.svm import SVC, LinearSVC\n",
    "from sklearn.feature_selection import VarianceThreshold\n",
    "#import ConfigSpace\n",
    "import importlib\n",
    "\n",
    "\n",
    "\n"
   ]
  },
  {
   "cell_type": "code",
   "execution_count": null,
   "metadata": {
    "collapsed": true
   },
   "outputs": [],
   "source": []
  },
  {
   "cell_type": "code",
   "execution_count": 7,
   "metadata": {
    "collapsed": false
   },
   "outputs": [],
   "source": [
    "import warnings\n",
    "warnings.filterwarnings(\"ignore\") \n",
    "\n",
    "task = openml.tasks.get_task(31)\n",
    "\n",
    "dataset = task.get_X_and_y()\n",
    "\n",
    "X = dataset[0]\n",
    "y = dataset[1]\n",
    "\n",
    "\n",
    "\n",
    "\n",
    "\n",
    "nominal_indices = task.get_dataset().get_features_by_type('nominal', [task.target_name])\n",
    "\n",
    "numeric_indices = task.get_dataset().get_features_by_type('numeric', [task.target_name])\n",
    "\n",
    "numeric_transformer = make_pipeline(\n",
    "    Imputer(),\n",
    "    StandardScaler())\n",
    "\n",
    "# note that the dataset is encoded numerically, hence we can only impute\n",
    "# numeric values, even for the categorical columns. \n",
    "categorical_transformer = make_pipeline(\n",
    "    SimpleImputer(strategy='constant', fill_value=-1),\n",
    "    OneHotEncoder(handle_unknown='ignore'))\n",
    "\n",
    "transformer = ColumnTransformer(\n",
    "    transformers=[\n",
    "        ('numeric', numeric_transformer, numeric_indices),\n",
    "        ('nominal', categorical_transformer, nominal_indices)],\n",
    "    remainder='passthrough')\n",
    "\n",
    "\n",
    "\n",
    "clf = make_pipeline(transformer, VarianceThreshold(), SVC())\n",
    "\n",
    "\n",
    "kde = uniform(loc=1, scale = 10)\n",
    "\n",
    "\n",
    "param_dist_kernel = {\n",
    "    'svc__gamma' : gamma_sig,\n",
    "    'svc__C'     : C_sig,\n",
    "    'svc__kernel': ['sigmoid']\n",
    "}\n",
    "\n",
    "param_dist_uniform = {\n",
    "    'svc__gamma' : loguni(low = np.log10(min(sigmoid_df['svc__gamma'])), high = np.log10(max(sigmoid_df['svc__gamma'])), base = 10) ,\n",
    "    'svc__C'     : loguni(low = np.log10(min(sigmoid_df['svc__C'])), high = np.log10(max(sigmoid_df['svc__C'])), base = 10) ,\n",
    "    'svc__kernel': ['sigmoid']\n",
    "}\n",
    "\n",
    "\n",
    "\n",
    "\n",
    "rs_kernel = RandomizedSearchCV(\n",
    "    return_train_score = True,\n",
    "    estimator=clf,\n",
    "    cv = 4,  \n",
    "    param_distributions = param_dist_kernel,\n",
    "    n_iter=20\n",
    "    \n",
    ")\n",
    "\n",
    "rs_uniform = RandomizedSearchCV(\n",
    "    return_train_score = True,\n",
    "    estimator=clf,\n",
    "    cv = 4,\n",
    "    param_distributions = param_dist_uniform,\n",
    "    n_iter=20\n",
    "    \n",
    ")\n",
    "\n",
    "\n",
    "\n",
    "#k_score = cross_val_score(X=X, y=y, cv = 4, estimator=rs_kernel)\n",
    "#u_score = cross_val_score(X=X, y=y, cv = 4, estimator = rs_uniform)\n",
    "\n",
    "#kde_score.append(np.mean(k_score))\n",
    "#uni_score.append(np.mean(u_score))"
   ]
  },
  {
   "cell_type": "code",
   "execution_count": 8,
   "metadata": {
    "collapsed": false
   },
   "outputs": [],
   "source": [
    "from sklearn import __version__ as v"
   ]
  },
  {
   "cell_type": "code",
   "execution_count": 9,
   "metadata": {
    "collapsed": false
   },
   "outputs": [
    {
     "data": {
      "text/plain": [
       "'0.20.2'"
      ]
     },
     "execution_count": 9,
     "metadata": {},
     "output_type": "execute_result"
    }
   ],
   "source": [
    "v"
   ]
  },
  {
   "cell_type": "code",
   "execution_count": 10,
   "metadata": {
    "collapsed": false
   },
   "outputs": [
    {
     "data": {
      "text/plain": [
       "RandomizedSearchCV(cv=4, error_score='raise-deprecating',\n",
       "          estimator=Pipeline(memory=None,\n",
       "     steps=[('columntransformer', ColumnTransformer(n_jobs=None, remainder='passthrough', sparse_threshold=0.3,\n",
       "         transformer_weights=None,\n",
       "         transformers=[('numeric', Pipeline(memory=None,\n",
       "     steps=[('imputer', Imputer(axis=0, copy=True, missing_values='NaN', strategy='mean', verbose=0))...f', max_iter=-1, probability=False, random_state=None,\n",
       "  shrinking=True, tol=0.001, verbose=False))]),\n",
       "          fit_params=None, iid='warn', n_iter=20, n_jobs=None,\n",
       "          param_distributions={'svc__gamma': <__main__.alt_gauss object at 0x2aab1f1df588>, 'svc__C': <__main__.alt_gauss object at 0x2aab1f1df748>, 'svc__kernel': ['sigmoid']},\n",
       "          pre_dispatch='2*n_jobs', random_state=None, refit=True,\n",
       "          return_train_score=True, scoring=None, verbose=0)"
      ]
     },
     "execution_count": 10,
     "metadata": {},
     "output_type": "execute_result"
    }
   ],
   "source": [
    "rs_kernel.fit(X,y)"
   ]
  },
  {
   "cell_type": "code",
   "execution_count": 11,
   "metadata": {
    "collapsed": false
   },
   "outputs": [
    {
     "data": {
      "text/plain": [
       "{'svc__C': array([[183.04518135]]),\n",
       " 'svc__gamma': array([[0.00083386]]),\n",
       " 'svc__kernel': 'sigmoid'}"
      ]
     },
     "execution_count": 11,
     "metadata": {},
     "output_type": "execute_result"
    }
   ],
   "source": [
    "rs_kernel.best_params_"
   ]
  },
  {
   "cell_type": "code",
   "execution_count": 12,
   "metadata": {
    "collapsed": false
   },
   "outputs": [
    {
     "data": {
      "text/plain": [
       "RandomizedSearchCV(cv=4, error_score='raise-deprecating',\n",
       "          estimator=Pipeline(memory=None,\n",
       "     steps=[('columntransformer', ColumnTransformer(n_jobs=None, remainder='passthrough', sparse_threshold=0.3,\n",
       "         transformer_weights=None,\n",
       "         transformers=[('numeric', Pipeline(memory=None,\n",
       "     steps=[('imputer', Imputer(axis=0, copy=True, missing_values='NaN', strategy='mean', verbose=0))...f', max_iter=-1, probability=False, random_state=None,\n",
       "  shrinking=True, tol=0.001, verbose=False))]),\n",
       "          fit_params=None, iid='warn', n_iter=20, n_jobs=None,\n",
       "          param_distributions={'svc__gamma': <__main__.loguni object at 0x2aab1fa57be0>, 'svc__C': <__main__.loguni object at 0x2aab1f9ba780>, 'svc__kernel': ['sigmoid']},\n",
       "          pre_dispatch='2*n_jobs', random_state=None, refit=True,\n",
       "          return_train_score=True, scoring=None, verbose=0)"
      ]
     },
     "execution_count": 12,
     "metadata": {},
     "output_type": "execute_result"
    }
   ],
   "source": [
    "rs_uniform.fit(X,y)"
   ]
  },
  {
   "cell_type": "code",
   "execution_count": 13,
   "metadata": {
    "collapsed": false
   },
   "outputs": [
    {
     "data": {
      "text/plain": [
       "{'svc__C': array([[141.44716857]]),\n",
       " 'svc__gamma': array([[0.0010052]]),\n",
       " 'svc__kernel': 'sigmoid'}"
      ]
     },
     "execution_count": 13,
     "metadata": {},
     "output_type": "execute_result"
    }
   ],
   "source": [
    "rs_uniform.best_params_"
   ]
  },
  {
   "cell_type": "code",
   "execution_count": 14,
   "metadata": {
    "collapsed": false
   },
   "outputs": [
    {
     "data": {
      "text/plain": [
       "10"
      ]
     },
     "execution_count": 14,
     "metadata": {},
     "output_type": "execute_result"
    }
   ],
   "source": [
    "rs_kernel.best_index_"
   ]
  },
  {
   "cell_type": "code",
   "execution_count": 15,
   "metadata": {
    "collapsed": false
   },
   "outputs": [
    {
     "data": {
      "text/plain": [
       "14"
      ]
     },
     "execution_count": 15,
     "metadata": {},
     "output_type": "execute_result"
    }
   ],
   "source": [
    "rs_uniform.best_index_"
   ]
  },
  {
   "cell_type": "code",
   "execution_count": 16,
   "metadata": {
    "collapsed": false
   },
   "outputs": [
    {
     "data": {
      "text/plain": [
       "0.77"
      ]
     },
     "execution_count": 16,
     "metadata": {},
     "output_type": "execute_result"
    }
   ],
   "source": [
    "rs_kernel.best_score_"
   ]
  },
  {
   "cell_type": "code",
   "execution_count": 17,
   "metadata": {
    "collapsed": false
   },
   "outputs": [
    {
     "data": {
      "text/plain": [
       "0.77"
      ]
     },
     "execution_count": 17,
     "metadata": {},
     "output_type": "execute_result"
    }
   ],
   "source": [
    "rs_uniform.best_score_"
   ]
  },
  {
   "cell_type": "code",
   "execution_count": null,
   "metadata": {
    "collapsed": false,
    "scrolled": true
   },
   "outputs": [],
   "source": []
  },
  {
   "cell_type": "code",
   "execution_count": 18,
   "metadata": {
    "collapsed": false
   },
   "outputs": [
    {
     "data": {
      "text/plain": [
       "array([3567, 3561, 3560, 3549, 3543, 3512, 3510, 3494, 3493, 3492, 3485,\n",
       "       3481, 3022, 3021, 2079, 2074,  219,   58,   53,   49,   45,   43,\n",
       "         41,   37,   36,   32,   31,   29,   28,   24,   23,   22,   21,\n",
       "         20,   18,   16,   15,   14,   12,   11,    6,    3])"
      ]
     },
     "execution_count": 18,
     "metadata": {},
     "output_type": "execute_result"
    }
   ],
   "source": [
    "df.task_id.unique()"
   ]
  },
  {
   "cell_type": "code",
   "execution_count": 25,
   "metadata": {
    "collapsed": false
   },
   "outputs": [],
   "source": [
    "k_i = rs_kernel.best_index_\n",
    "k_s = rs_kernel.best_score_\n",
    "\n",
    "u_i = rs_uniform.best_index_\n",
    "u_s = rs_uniform.best_score_\n",
    "\n",
    "k = {\"index_diff\" : k_i - u_i, \"perf_diff\" : k_s - u_s, 'uni': rs_uniform, 'kern': rs_kernel.cv_results_}\n",
    "#pickling the saved object\n",
    "import pickle\n",
    "\n",
    "#your_data = {'foo': 'bar'}\n",
    "\n",
    "# Store data (serialize)\n",
    "fil_nam = 'kde_v_uni_'+ str(task_id)+'.pickle' \n",
    "with open(fil_nam, 'wb') as handle:\n",
    "    pickle.dump(k, handle, protocol=pickle.HIGHEST_PROTOCOL)"
   ]
  },
  {
   "cell_type": "code",
   "execution_count": null,
   "metadata": {
    "collapsed": true
   },
   "outputs": [],
   "source": []
  },
  {
   "cell_type": "code",
   "execution_count": null,
   "metadata": {
    "collapsed": false
   },
   "outputs": [],
   "source": []
  },
  {
   "cell_type": "code",
   "execution_count": 26,
   "metadata": {
    "collapsed": true
   },
   "outputs": [],
   "source": [
    "from sklearn.impute import SimpleImputer\n"
   ]
  },
  {
   "cell_type": "code",
   "execution_count": null,
   "metadata": {
    "collapsed": true
   },
   "outputs": [],
   "source": []
  },
  {
   "cell_type": "code",
   "execution_count": null,
   "metadata": {
    "collapsed": true
   },
   "outputs": [],
   "source": []
  }
 ],
 "metadata": {
  "anaconda-cloud": {},
  "kernelspec": {
   "display_name": "Python [conda env:myenv2]",
   "language": "python",
   "name": "conda-env-myenv2-py"
  },
  "language_info": {
   "codemirror_mode": {
    "name": "ipython",
    "version": 3
   },
   "file_extension": ".py",
   "mimetype": "text/x-python",
   "name": "python",
   "nbconvert_exporter": "python",
   "pygments_lexer": "ipython3",
   "version": "3.6.2"
  }
 },
 "nbformat": 4,
 "nbformat_minor": 1
}
